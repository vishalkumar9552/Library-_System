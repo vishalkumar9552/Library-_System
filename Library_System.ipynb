{
 "cells": [
  {
   "cell_type": "code",
   "execution_count": null,
   "id": "initial_id",
   "metadata": {
    "collapsed": true
   },
   "outputs": [],
   "source": [
    "library_data = []\n",
    "\n",
    "def add_entry(name, book, time_of_rent, time_of_return, cost, address):\n",
    "    entry = {\n",
    "        \"name\": name,\n",
    "        \"book\": book,\n",
    "        \"time_of_rent\": time_of_rent,\n",
    "        \"time_of_return\": time_of_return,\n",
    "        \"cost\": cost,\n",
    "        \"address\": address\n",
    "    }\n",
    "    library_data.append(entry)\n",
    "\n",
    "def display_all():\n",
    "    for record in library_data:\n",
    "        print(record)\n",
    "\n",
    "def search_by_field(field, value):\n",
    "    result = [entry for entry in library_data if str(entry.get(field, \"\")).lower() == str(value).lower()]\n",
    "    return result\n",
    "\n",
    "# Sample Data\n",
    "add_entry(\"Vishal\", \"Python Basics\", \"2025-06-01\", \"2025-06-10\", 100, \"Delhi\")\n",
    "add_entry(\"Rahul\", \"Data Science\", \"2025-06-02\", \"2025-06-12\", 150, \"Mumbai\")\n",
    "add_entry(\"Rohit\", \"Machine Learning\", \"2025-06-05\", \"2025-06-15\", 200, \"Delhi\")\n",
    "\n",
    "\n",
    "print(\"📚 All Library Records:\")\n",
    "display_all()\n",
    "\n",
    "# Search by user input\n",
    "print(\"\\n🔍 Enter the field to search by (name/book/time_of_rent/time_of_return/cost/address):\")\n",
    "field_input = input(\"Field: \").strip().lower()\n",
    "\n",
    "print(\"🔍 Enter the value to search for:\")\n",
    "value_input = input(\"Value: \").strip()\n",
    "\n",
    "matched_records = search_by_field(field_input, value_input)\n",
    "\n",
    "if matched_records:\n",
    "    print(f\"\\n✅ Search Results for {field_input} = '{value_input}':\")\n",
    "    for r in matched_records:\n",
    "        print(r)\n",
    "else:\n",
    "    print(f\"\\n❌ No records found for {field_input} = '{value_input}'\")"
   ]
  }
 ],
 "metadata": {
  "kernelspec": {
   "display_name": "Python 3",
   "language": "python",
   "name": "python3"
  },
  "language_info": {
   "codemirror_mode": {
    "name": "ipython",
    "version": 2
   },
   "file_extension": ".py",
   "mimetype": "text/x-python",
   "name": "python",
   "nbconvert_exporter": "python",
   "pygments_lexer": "ipython2",
   "version": "2.7.6"
  }
 },
 "nbformat": 4,
 "nbformat_minor": 5
}
